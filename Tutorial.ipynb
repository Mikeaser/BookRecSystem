{
 "cells": [
  {
   "attachments": {},
   "cell_type": "markdown",
   "metadata": {},
   "source": [
    "#### 0.数据探索部分\n",
    "这个笔记本展示了如何对./data/raw中的原始数据集进行预处理，最终生成可供建模的数据集，保存在./data/processed中。"
   ]
  },
  {
   "cell_type": "code",
   "execution_count": 1,
   "metadata": {},
   "outputs": [],
   "source": [
    "import pandas as pd\n",
    "ProjectFolderDir = '..'   # 项目文件夹的路径是相对于本笔记本路径而言的，当然也可以使用绝对路径"
   ]
  },
  {
   "attachments": {},
   "cell_type": "markdown",
   "metadata": {},
   "source": [
    "初步分析阶段先将字段以字符串形式录入，便于后期统一格式"
   ]
  },
  {
   "cell_type": "code",
   "execution_count": 2,
   "metadata": {},
   "outputs": [
    {
     "name": "stdout",
     "output_type": "stream",
     "text": [
      "<class 'pandas.core.frame.DataFrame'>\n",
      "RangeIndex: 2067948 entries, 0 to 2067947\n",
      "Data columns (total 27 columns):\n",
      " #   Column             Dtype \n",
      "---  ------             ----- \n",
      " 0   UNIVERSITY_ID      object\n",
      " 1   ITEM_ID            object\n",
      " 2   SUBLIBRARY         object\n",
      " 3   LOAN_DATE          object\n",
      " 4   LOAN_HOUR          object\n",
      " 5   DUE_DATE           object\n",
      " 6   DUE_HOUR           object\n",
      " 7   RETURNED_DATE      object\n",
      " 8   RETURNED_HOUR      object\n",
      " 9   RETURNED_LOCATION  object\n",
      " 10  ITEM_STATUS        object\n",
      " 11  RENEWAL_NO         object\n",
      " 12  LASTRENEW_DATE     object\n",
      " 13  RECALL_DATE        object\n",
      " 14  RECALL_DUE_DATE    object\n",
      " 15  ITEM_CALLNO        object\n",
      " 16  PUBLISH_YEAR       object\n",
      " 17  AUTHOR             object\n",
      " 18  TITLE              object\n",
      " 19  PRESS              object\n",
      " 20  ISBN               object\n",
      " 21  HOLD_DAYS          object\n",
      " 22  OVERDUE_DAYS       object\n",
      " 23  PATRON_ID          object\n",
      " 24  STUDENT_GRADE      object\n",
      " 25  PATRON_DEPT        object\n",
      " 26  PATRON_TYPE        object\n",
      "dtypes: object(27)\n",
      "memory usage: 426.0+ MB\n"
     ]
    }
   ],
   "source": [
    "BigData = pd.read_csv(ProjectFolderDir + \"/data/raw/浙江大学-图书外借数据-2013~2018.csv\", encoding='utf8', dtype=str)\n",
    "BigData.info()"
   ]
  },
  {
   "cell_type": "code",
   "execution_count": 3,
   "metadata": {},
   "outputs": [
    {
     "name": "stdout",
     "output_type": "stream",
     "text": [
      "<class 'pandas.core.frame.DataFrame'>\n",
      "RangeIndex: 192701 entries, 0 to 192700\n",
      "Data columns (total 26 columns):\n",
      " #   Column           Non-Null Count   Dtype \n",
      "---  ------           --------------   ----- \n",
      " 0   UNIVERSITY_ID    192701 non-null  object\n",
      " 1   ITEM_ID          192701 non-null  object\n",
      " 2   SUBLIBRARY       192701 non-null  object\n",
      " 3   LOAN_DATE        192701 non-null  object\n",
      " 4   LOAN_HOUR        192701 non-null  object\n",
      " 5   DUE_DATE         192701 non-null  object\n",
      " 6   DUE_HOUR         192701 non-null  object\n",
      " 7   RETURNED_DATE    192701 non-null  object\n",
      " 8   RETURNED_HOUR    192701 non-null  object\n",
      " 9   ITEM_STATUS      192701 non-null  object\n",
      " 10  RENEWAL_NO       192701 non-null  object\n",
      " 11  LASTRENEW_DATE   192701 non-null  object\n",
      " 12  RECALL_DATE      192701 non-null  object\n",
      " 13  RECALL_DUE_DATE  192701 non-null  object\n",
      " 14  ITEM_CALLNO      192696 non-null  object\n",
      " 15  PUBLISH_YEAR     192701 non-null  object\n",
      " 16  AUTHOR           192409 non-null  object\n",
      " 17  TITLE            192694 non-null  object\n",
      " 18  PRESS            192668 non-null  object\n",
      " 19  ISBN             188032 non-null  object\n",
      " 20  HOLD_DAYS        192701 non-null  object\n",
      " 21  OVERDUE_DAYS     192701 non-null  object\n",
      " 22  PATRON_ID        192701 non-null  object\n",
      " 23  STUDENT_GRADE    168086 non-null  object\n",
      " 24  PATRON_DEPT      187398 non-null  object\n",
      " 25  PATRON_TYPE      188406 non-null  object\n",
      "dtypes: object(26)\n",
      "memory usage: 38.2+ MB\n"
     ]
    }
   ],
   "source": [
    "SmallData = pd.read_csv(ProjectFolderDir + \"/data/raw/浙江大学-图书外借数据-2019.csv\", encoding='utf8', dtype=str)\n",
    "SmallData.info()"
   ]
  },
  {
   "cell_type": "code",
   "execution_count": 4,
   "metadata": {},
   "outputs": [
    {
     "data": {
      "text/html": [
       "<div>\n",
       "<style scoped>\n",
       "    .dataframe tbody tr th:only-of-type {\n",
       "        vertical-align: middle;\n",
       "    }\n",
       "\n",
       "    .dataframe tbody tr th {\n",
       "        vertical-align: top;\n",
       "    }\n",
       "\n",
       "    .dataframe thead th {\n",
       "        text-align: right;\n",
       "    }\n",
       "</style>\n",
       "<table border=\"1\" class=\"dataframe\">\n",
       "  <thead>\n",
       "    <tr style=\"text-align: right;\">\n",
       "      <th></th>\n",
       "      <th>UNIVERSITY_ID</th>\n",
       "      <th>ITEM_ID</th>\n",
       "      <th>SUBLIBRARY</th>\n",
       "      <th>LOAN_DATE</th>\n",
       "      <th>LOAN_HOUR</th>\n",
       "      <th>DUE_DATE</th>\n",
       "      <th>DUE_HOUR</th>\n",
       "      <th>RETURNED_DATE</th>\n",
       "      <th>RETURNED_HOUR</th>\n",
       "      <th>RETURNED_LOCATION</th>\n",
       "      <th>...</th>\n",
       "      <th>AUTHOR</th>\n",
       "      <th>TITLE</th>\n",
       "      <th>PRESS</th>\n",
       "      <th>ISBN</th>\n",
       "      <th>HOLD_DAYS</th>\n",
       "      <th>OVERDUE_DAYS</th>\n",
       "      <th>PATRON_ID</th>\n",
       "      <th>STUDENT_GRADE</th>\n",
       "      <th>PATRON_DEPT</th>\n",
       "      <th>PATRON_TYPE</th>\n",
       "    </tr>\n",
       "  </thead>\n",
       "  <tbody>\n",
       "    <tr>\n",
       "      <th>1113286</th>\n",
       "      <td>10335</td>\n",
       "      <td>000118316000050</td>\n",
       "      <td>BLT</td>\n",
       "      <td>20130110</td>\n",
       "      <td>1806</td>\n",
       "      <td>20130228</td>\n",
       "      <td>2359</td>\n",
       "      <td>20130121</td>\n",
       "      <td>1053</td>\n",
       "      <td>NaN</td>\n",
       "      <td>...</td>\n",
       "      <td>潘鼎坤</td>\n",
       "      <td>高等数学内容提要及解题指导 :少学时类</td>\n",
       "      <td>西安交通大学出版社</td>\n",
       "      <td>7-5605-1837-0</td>\n",
       "      <td>11</td>\n",
       "      <td>-38</td>\n",
       "      <td>0d70fcf70100be633ff55219aeb6095b</td>\n",
       "      <td>2012</td>\n",
       "      <td>传媒与国际文化学院</td>\n",
       "      <td>全日制本科生</td>\n",
       "    </tr>\n",
       "    <tr>\n",
       "      <th>846796</th>\n",
       "      <td>10335</td>\n",
       "      <td>000734009000100</td>\n",
       "      <td>BHB</td>\n",
       "      <td>20131025</td>\n",
       "      <td>1211</td>\n",
       "      <td>20140111</td>\n",
       "      <td>2359</td>\n",
       "      <td>20131215</td>\n",
       "      <td>1218</td>\n",
       "      <td>NaN</td>\n",
       "      <td>...</td>\n",
       "      <td>博赞</td>\n",
       "      <td>快速阅读</td>\n",
       "      <td>中信出版社</td>\n",
       "      <td>978-7-5086-1503-5</td>\n",
       "      <td>51</td>\n",
       "      <td>-27</td>\n",
       "      <td>724e62f1083c5d00f355ff25893b9e58</td>\n",
       "      <td>2012</td>\n",
       "      <td>管理学院</td>\n",
       "      <td>全日制本科生</td>\n",
       "    </tr>\n",
       "    <tr>\n",
       "      <th>1337704</th>\n",
       "      <td>10335</td>\n",
       "      <td>000689819000010</td>\n",
       "      <td>TLT</td>\n",
       "      <td>20151116</td>\n",
       "      <td>1326</td>\n",
       "      <td>20151226</td>\n",
       "      <td>2359</td>\n",
       "      <td>20151223</td>\n",
       "      <td>1303</td>\n",
       "      <td>NaN</td>\n",
       "      <td>...</td>\n",
       "      <td>王承学</td>\n",
       "      <td>化学反应工程</td>\n",
       "      <td>化学工业出版社</td>\n",
       "      <td>978-7-122-03645-2</td>\n",
       "      <td>37</td>\n",
       "      <td>-3</td>\n",
       "      <td>da74cf9b887910eec7fdbef6349ef577</td>\n",
       "      <td>2015</td>\n",
       "      <td>化学工程与生物工程学院</td>\n",
       "      <td>全日制硕士生</td>\n",
       "    </tr>\n",
       "  </tbody>\n",
       "</table>\n",
       "<p>3 rows × 27 columns</p>\n",
       "</div>"
      ],
      "text/plain": [
       "        UNIVERSITY_ID          ITEM_ID SUBLIBRARY LOAN_DATE LOAN_HOUR  \\\n",
       "1113286         10335  000118316000050      BLT    20130110      1806   \n",
       "846796          10335  000734009000100      BHB    20131025      1211   \n",
       "1337704         10335  000689819000010      TLT    20151116      1326   \n",
       "\n",
       "         DUE_DATE DUE_HOUR RETURNED_DATE RETURNED_HOUR RETURNED_LOCATION  ...  \\\n",
       "1113286  20130228     2359      20130121          1053               NaN  ...   \n",
       "846796   20140111     2359      20131215          1218               NaN  ...   \n",
       "1337704  20151226     2359      20151223          1303               NaN  ...   \n",
       "\n",
       "        AUTHOR                TITLE      PRESS               ISBN HOLD_DAYS  \\\n",
       "1113286    潘鼎坤  高等数学内容提要及解题指导 :少学时类  西安交通大学出版社      7-5605-1837-0        11   \n",
       "846796      博赞                 快速阅读      中信出版社  978-7-5086-1503-5        51   \n",
       "1337704    王承学               化学反应工程    化学工业出版社  978-7-122-03645-2        37   \n",
       "\n",
       "        OVERDUE_DAYS                         PATRON_ID STUDENT_GRADE  \\\n",
       "1113286          -38  0d70fcf70100be633ff55219aeb6095b          2012   \n",
       "846796           -27  724e62f1083c5d00f355ff25893b9e58          2012   \n",
       "1337704           -3  da74cf9b887910eec7fdbef6349ef577          2015   \n",
       "\n",
       "         PATRON_DEPT PATRON_TYPE  \n",
       "1113286    传媒与国际文化学院      全日制本科生  \n",
       "846796          管理学院      全日制本科生  \n",
       "1337704  化学工程与生物工程学院      全日制硕士生  \n",
       "\n",
       "[3 rows x 27 columns]"
      ]
     },
     "execution_count": 4,
     "metadata": {},
     "output_type": "execute_result"
    }
   ],
   "source": [
    "BigData.sample(3)"
   ]
  },
  {
   "attachments": {},
   "cell_type": "markdown",
   "metadata": {},
   "source": [
    "下面是构建模型所需要的数据列"
   ]
  },
  {
   "cell_type": "code",
   "execution_count": 5,
   "metadata": {},
   "outputs": [],
   "source": [
    "user_columns = ['PATRON_ID', 'STUDENT_GRADE', 'PATRON_DEPT', 'PATRON_TYPE']\n",
    "# 用户侧特征       用户id          年级            学生学院       学生类型\n",
    "item_columns = ['ITEM_ID', 'SUBLIBRARY', 'ITEM_CALLNO', 'PUBLISH_YEAR', 'AUTHOR', 'TITLE', 'PRESS']\n",
    "# 物品侧特征       记录号      馆藏地         图书索书号        出版年          作者       题目    出版社\n",
    "time = 'LOAN_DATE'"
   ]
  },
  {
   "attachments": {},
   "cell_type": "markdown",
   "metadata": {},
   "source": [
    "将两份数据集合并"
   ]
  },
  {
   "cell_type": "code",
   "execution_count": 6,
   "metadata": {},
   "outputs": [],
   "source": [
    "UsedColumns = user_columns + item_columns + [time]\n",
    "UsedData = pd.concat([BigData[UsedColumns], SmallData[UsedColumns]])"
   ]
  },
  {
   "cell_type": "code",
   "execution_count": 7,
   "metadata": {},
   "outputs": [
    {
     "name": "stdout",
     "output_type": "stream",
     "text": [
      "<class 'pandas.core.frame.DataFrame'>\n",
      "Int64Index: 2260649 entries, 0 to 192700\n",
      "Data columns (total 12 columns):\n",
      " #   Column         Dtype \n",
      "---  ------         ----- \n",
      " 0   PATRON_ID      object\n",
      " 1   STUDENT_GRADE  object\n",
      " 2   PATRON_DEPT    object\n",
      " 3   PATRON_TYPE    object\n",
      " 4   ITEM_ID        object\n",
      " 5   SUBLIBRARY     object\n",
      " 6   ITEM_CALLNO    object\n",
      " 7   PUBLISH_YEAR   object\n",
      " 8   AUTHOR         object\n",
      " 9   TITLE          object\n",
      " 10  PRESS          object\n",
      " 11  LOAN_DATE      object\n",
      "dtypes: object(12)\n",
      "memory usage: 224.2+ MB\n"
     ]
    }
   ],
   "source": [
    "UsedData.info()"
   ]
  },
  {
   "cell_type": "code",
   "execution_count": 8,
   "metadata": {},
   "outputs": [
    {
     "data": {
      "text/html": [
       "<div>\n",
       "<style scoped>\n",
       "    .dataframe tbody tr th:only-of-type {\n",
       "        vertical-align: middle;\n",
       "    }\n",
       "\n",
       "    .dataframe tbody tr th {\n",
       "        vertical-align: top;\n",
       "    }\n",
       "\n",
       "    .dataframe thead th {\n",
       "        text-align: right;\n",
       "    }\n",
       "</style>\n",
       "<table border=\"1\" class=\"dataframe\">\n",
       "  <thead>\n",
       "    <tr style=\"text-align: right;\">\n",
       "      <th></th>\n",
       "      <th>PATRON_ID</th>\n",
       "      <th>STUDENT_GRADE</th>\n",
       "      <th>PATRON_DEPT</th>\n",
       "      <th>PATRON_TYPE</th>\n",
       "      <th>ITEM_ID</th>\n",
       "      <th>SUBLIBRARY</th>\n",
       "      <th>ITEM_CALLNO</th>\n",
       "      <th>PUBLISH_YEAR</th>\n",
       "      <th>AUTHOR</th>\n",
       "      <th>TITLE</th>\n",
       "      <th>PRESS</th>\n",
       "      <th>LOAN_DATE</th>\n",
       "    </tr>\n",
       "  </thead>\n",
       "  <tbody>\n",
       "    <tr>\n",
       "      <th>139216</th>\n",
       "      <td>5522d2e92156b97a1a72f9f6266fe539</td>\n",
       "      <td>2011</td>\n",
       "      <td>人文学院</td>\n",
       "      <td>全日制博士生</td>\n",
       "      <td>000464235000030</td>\n",
       "      <td>SLT</td>\n",
       "      <td>I206.7/CC9.3</td>\n",
       "      <td>2004</td>\n",
       "      <td>陈思和,</td>\n",
       "      <td>无名时代的文学批评</td>\n",
       "      <td>广西师范大学出版社</td>\n",
       "      <td>20160325</td>\n",
       "    </tr>\n",
       "    <tr>\n",
       "      <th>387560</th>\n",
       "      <td>482d341523e161b4d85e3ccc6213d4eb</td>\n",
       "      <td>2010</td>\n",
       "      <td>传媒与国际文化学院</td>\n",
       "      <td>全日制本科生</td>\n",
       "      <td>000296869000010</td>\n",
       "      <td>SLT</td>\n",
       "      <td>I247.5/BZ11.1</td>\n",
       "      <td>1985</td>\n",
       "      <td>张辛欣</td>\n",
       "      <td>张辛欣小说集</td>\n",
       "      <td>北方文艺出版社</td>\n",
       "      <td>20140507</td>\n",
       "    </tr>\n",
       "    <tr>\n",
       "      <th>1340664</th>\n",
       "      <td>6ad1a59195c168ed291b78d8f915fb5e</td>\n",
       "      <td>2015</td>\n",
       "      <td>医学院</td>\n",
       "      <td>全日制本科生</td>\n",
       "      <td>000103384000020</td>\n",
       "      <td>MLT</td>\n",
       "      <td>R329/CZ2-5/f</td>\n",
       "      <td>2003</td>\n",
       "      <td>刘少纯</td>\n",
       "      <td>组织学与胚胎学学习与解题指南</td>\n",
       "      <td>华中科技大学出版社</td>\n",
       "      <td>20170109</td>\n",
       "    </tr>\n",
       "  </tbody>\n",
       "</table>\n",
       "</div>"
      ],
      "text/plain": [
       "                                PATRON_ID STUDENT_GRADE PATRON_DEPT  \\\n",
       "139216   5522d2e92156b97a1a72f9f6266fe539          2011        人文学院   \n",
       "387560   482d341523e161b4d85e3ccc6213d4eb          2010   传媒与国际文化学院   \n",
       "1340664  6ad1a59195c168ed291b78d8f915fb5e          2015         医学院   \n",
       "\n",
       "        PATRON_TYPE          ITEM_ID SUBLIBRARY    ITEM_CALLNO PUBLISH_YEAR  \\\n",
       "139216       全日制博士生  000464235000030      SLT     I206.7/CC9.3         2004   \n",
       "387560       全日制本科生  000296869000010      SLT    I247.5/BZ11.1         1985   \n",
       "1340664      全日制本科生  000103384000020      MLT     R329/CZ2-5/f         2003   \n",
       "\n",
       "        AUTHOR           TITLE      PRESS LOAN_DATE  \n",
       "139216    陈思和,       无名时代的文学批评  广西师范大学出版社  20160325  \n",
       "387560     张辛欣          张辛欣小说集    北方文艺出版社  20140507  \n",
       "1340664    刘少纯  组织学与胚胎学学习与解题指南  华中科技大学出版社  20170109  "
      ]
     },
     "execution_count": 8,
     "metadata": {},
     "output_type": "execute_result"
    }
   ],
   "source": [
    "UsedData.sample(3)"
   ]
  },
  {
   "attachments": {},
   "cell_type": "markdown",
   "metadata": {},
   "source": [
    "本项目将借阅记录中的空值字段采用相同值’na'进行填充，特征处理时将其作为空特征。对于图书类别，将其索书号按/分割后得到图书大类CALLNO1与小类CALLNO2，将借阅日期转为整形，便于之后比较大小。"
   ]
  },
  {
   "cell_type": "code",
   "execution_count": 9,
   "metadata": {},
   "outputs": [],
   "source": [
    "import re\n",
    "\n",
    "def get_Bletter(str0):   # 取出大写字母\n",
    "    b = re.sub(u\"([^\\u0041-\\u007a])\", \"\", str0)\n",
    "    return b\n",
    "\n",
    "UsedData = UsedData.fillna(value='na')\n",
    "UsedData['CALLNO1'] = UsedData['ITEM_CALLNO'].str.split('/', expand=True)[0].map(lambda x: get_Bletter(str(x)))\n",
    "UsedData['CALLNO2'] = UsedData['ITEM_CALLNO'].str.split('/', expand=True)[1].map(lambda x: get_Bletter(str(x)))\n",
    "UsedData[time]=UsedData[time].astype(int)\n",
    "UsedData = UsedData.drop(columns='ITEM_CALLNO')  # 删掉不再需要的列x"
   ]
  },
  {
   "attachments": {},
   "cell_type": "markdown",
   "metadata": {},
   "source": [
    "此时可以看到UsedData中的空值消失，并且多出了两个类别列"
   ]
  },
  {
   "cell_type": "code",
   "execution_count": 10,
   "metadata": {},
   "outputs": [
    {
     "name": "stdout",
     "output_type": "stream",
     "text": [
      "<class 'pandas.core.frame.DataFrame'>\n",
      "Int64Index: 2260649 entries, 0 to 192700\n",
      "Data columns (total 13 columns):\n",
      " #   Column         Dtype \n",
      "---  ------         ----- \n",
      " 0   PATRON_ID      object\n",
      " 1   STUDENT_GRADE  object\n",
      " 2   PATRON_DEPT    object\n",
      " 3   PATRON_TYPE    object\n",
      " 4   ITEM_ID        object\n",
      " 5   SUBLIBRARY     object\n",
      " 6   PUBLISH_YEAR   object\n",
      " 7   AUTHOR         object\n",
      " 8   TITLE          object\n",
      " 9   PRESS          object\n",
      " 10  LOAN_DATE      int64 \n",
      " 11  CALLNO1        object\n",
      " 12  CALLNO2        object\n",
      "dtypes: int64(1), object(12)\n",
      "memory usage: 241.5+ MB\n"
     ]
    }
   ],
   "source": [
    "UsedData.info()"
   ]
  },
  {
   "attachments": {},
   "cell_type": "markdown",
   "metadata": {},
   "source": [
    "将数据存入./data/processed中，作为后续分析数据"
   ]
  },
  {
   "cell_type": "code",
   "execution_count": 11,
   "metadata": {},
   "outputs": [],
   "source": [
    "import os\n",
    "\n",
    "UsedData.to_csv(ProjectFolderDir + \"/data/processed/ZJULibrary2013_2019.csv\")"
   ]
  },
  {
   "attachments": {},
   "cell_type": "markdown",
   "metadata": {},
   "source": [
    "可以再读取下来观察一下是否与之前的处理结果一样"
   ]
  },
  {
   "cell_type": "code",
   "execution_count": 15,
   "metadata": {},
   "outputs": [
    {
     "name": "stdout",
     "output_type": "stream",
     "text": [
      "<class 'pandas.core.frame.DataFrame'>\n",
      "Int64Index: 2260649 entries, 0 to 192700\n",
      "Data columns (total 13 columns):\n",
      " #   Column         Dtype \n",
      "---  ------         ----- \n",
      " 0   PATRON_ID      object\n",
      " 1   STUDENT_GRADE  object\n",
      " 2   PATRON_DEPT    object\n",
      " 3   PATRON_TYPE    object\n",
      " 4   ITEM_ID        object\n",
      " 5   SUBLIBRARY     object\n",
      " 6   PUBLISH_YEAR   object\n",
      " 7   AUTHOR         object\n",
      " 8   TITLE          object\n",
      " 9   PRESS          object\n",
      " 10  LOAN_DATE      int64 \n",
      " 11  CALLNO1        object\n",
      " 12  CALLNO2        object\n",
      "dtypes: int64(1), object(12)\n",
      "memory usage: 241.5+ MB\n"
     ]
    }
   ],
   "source": [
    "Data = pd.read_csv(ProjectFolderDir + \"/data/processed/ZJULibrary2013_2019.csv\", index_col = 0, dtype= str)\n",
    "Data[time]=Data[time].astype(int)\n",
    "Data.info()"
   ]
  },
  {
   "attachments": {},
   "cell_type": "markdown",
   "metadata": {},
   "source": [
    "至此完成了原始数据集的合并，填补了数据集中的空值，得到了图书的类别数据，最后将数据重新写入./data/processed/ZJULibrary2013_2019.csv中。"
   ]
  },
  {
   "attachments": {},
   "cell_type": "markdown",
   "metadata": {},
   "source": [
    "现在已经初步处理好了需要的全量数据，现在通过scikit-learn中的一些库函数对于借阅记录进行特征编码等，最终生成的numpy可读文件data_process.npy包含(保存在./data/processed/data_process.npy中)\n",
    "\n",
    "1.所有物品的原始特征集item_set\n",
    "\n",
    "2.所有用户的原始特征集user_set\n",
    "\n",
    "3.训练集/验证集/测试集 特征向量 x_train/x_val/x_test\n",
    "\n",
    "4.训练集/验证集/测试集 标签 y_train/y_val/y_test"
   ]
  },
  {
   "cell_type": "code",
   "execution_count": null,
   "metadata": {},
   "outputs": [],
   "source": [
    "from sklearn.preprocessing import LabelEncoder\n",
    "\n",
    "user_features = ['PATRON_ID', 'STUDENT_GRADE', 'PATRON_DEPT', 'PATRON_TYPE']\n",
    "# 用户侧特征       用户id          年级            学生学院       学生类型\n",
    "item_features = ['ITEM_ID', 'SUBLIBRARY', 'CALLNO1','CALLNO2', 'PUBLISH_YEAR', 'AUTHOR', 'TITLE', 'PRESS']\n",
    "# 物品侧特征       记录号      馆藏地         大类1      小类2       出版年          作者       题目    出版社\n",
    "features = user_features + item_features\n",
    "\n",
    "feature_max_idx = {}    # 记录每个特征共有多少种\n",
    "for feature in features:\n",
    "    lbe = LabelEncoder()\n",
    "    Data[feature] = lbe.fit_transform(Data[feature]) + 1  # 从1开始\n",
    "    feature_max_idx[feature] = Data[feature].max() + 1 # 防止padding后造成分类标签越界\n",
    "    if feature == 'PATRON_ID':\n",
    "        user_map = {encode_id + 1: raw_id for encode_id, raw_id in enumerate(lbe.classes_)}\n",
    "    if feature == 'ITEM_ID':\n",
    "        item_map = {encode_id + 1: raw_id for encode_id, raw_id in enumerate(lbe.classes_)}"
   ]
  },
  {
   "cell_type": "code",
   "execution_count": null,
   "metadata": {},
   "outputs": [],
   "source": [
    "Data.sample(3)"
   ]
  },
  {
   "cell_type": "code",
   "execution_count": null,
   "metadata": {},
   "outputs": [],
   "source": [
    "import numpy as np\n",
    "import os\n",
    "np.save(os.path.join(ProjectFolderDir + '/data/processed/', \"raw_id_maps.npy\") ,np.array((user_map, item_map), dtype=object))"
   ]
  },
  {
   "attachments": {},
   "cell_type": "markdown",
   "metadata": {},
   "source": [
    "运行上方代码后会在./data/processed文件夹下生成储存数据代号标签与原数据的字典集raw_id_maps.npy"
   ]
  },
  {
   "cell_type": "code",
   "execution_count": null,
   "metadata": {},
   "outputs": [],
   "source": [
    "feature_max_idx  # 可以观察每一个字段有几类不同值，统计用户人数与图书本树"
   ]
  }
 ],
 "metadata": {
  "kernelspec": {
   "display_name": "torchrec",
   "language": "python",
   "name": "python3"
  },
  "language_info": {
   "codemirror_mode": {
    "name": "ipython",
    "version": 3
   },
   "file_extension": ".py",
   "mimetype": "text/x-python",
   "name": "python",
   "nbconvert_exporter": "python",
   "pygments_lexer": "ipython3",
   "version": "3.10.9"
  },
  "orig_nbformat": 4
 },
 "nbformat": 4,
 "nbformat_minor": 2
}
