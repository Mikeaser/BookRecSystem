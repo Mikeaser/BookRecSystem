{
 "cells": [
  {
   "attachments": {},
   "cell_type": "markdown",
   "metadata": {},
   "source": [
    "#### 0.数据探索部分\n",
    "这个笔记本展示了如何对./data/raw中的原始数据集进行预处理，最终生成可供建模的数据集，保存在./data/processed中。"
   ]
  },
  {
   "cell_type": "code",
   "execution_count": 1,
   "metadata": {},
   "outputs": [],
   "source": [
    "import pandas as pd"
   ]
  },
  {
   "attachments": {},
   "cell_type": "markdown",
   "metadata": {},
   "source": [
    "初步分析阶段先将字段以字符串形式录入，便于后期统一格式"
   ]
  },
  {
   "cell_type": "code",
   "execution_count": 2,
   "metadata": {},
   "outputs": [
    {
     "name": "stdout",
     "output_type": "stream",
     "text": [
      "<class 'pandas.core.frame.DataFrame'>\n",
      "RangeIndex: 2067948 entries, 0 to 2067947\n",
      "Data columns (total 27 columns):\n",
      " #   Column             Dtype \n",
      "---  ------             ----- \n",
      " 0   UNIVERSITY_ID      object\n",
      " 1   ITEM_ID            object\n",
      " 2   SUBLIBRARY         object\n",
      " 3   LOAN_DATE          object\n",
      " 4   LOAN_HOUR          object\n",
      " 5   DUE_DATE           object\n",
      " 6   DUE_HOUR           object\n",
      " 7   RETURNED_DATE      object\n",
      " 8   RETURNED_HOUR      object\n",
      " 9   RETURNED_LOCATION  object\n",
      " 10  ITEM_STATUS        object\n",
      " 11  RENEWAL_NO         object\n",
      " 12  LASTRENEW_DATE     object\n",
      " 13  RECALL_DATE        object\n",
      " 14  RECALL_DUE_DATE    object\n",
      " 15  ITEM_CALLNO        object\n",
      " 16  PUBLISH_YEAR       object\n",
      " 17  AUTHOR             object\n",
      " 18  TITLE              object\n",
      " 19  PRESS              object\n",
      " 20  ISBN               object\n",
      " 21  HOLD_DAYS          object\n",
      " 22  OVERDUE_DAYS       object\n",
      " 23  PATRON_ID          object\n",
      " 24  STUDENT_GRADE      object\n",
      " 25  PATRON_DEPT        object\n",
      " 26  PATRON_TYPE        object\n",
      "dtypes: object(27)\n",
      "memory usage: 426.0+ MB\n"
     ]
    }
   ],
   "source": [
    "BigData = pd.read_csv(\"../data/raw/浙江大学-图书外借数据-2013~2018.csv\", encoding='utf8', dtype=str)\n",
    "BigData.info()"
   ]
  },
  {
   "cell_type": "code",
   "execution_count": 3,
   "metadata": {},
   "outputs": [
    {
     "name": "stdout",
     "output_type": "stream",
     "text": [
      "<class 'pandas.core.frame.DataFrame'>\n",
      "RangeIndex: 192701 entries, 0 to 192700\n",
      "Data columns (total 26 columns):\n",
      " #   Column           Non-Null Count   Dtype \n",
      "---  ------           --------------   ----- \n",
      " 0   UNIVERSITY_ID    192701 non-null  object\n",
      " 1   ITEM_ID          192701 non-null  object\n",
      " 2   SUBLIBRARY       192701 non-null  object\n",
      " 3   LOAN_DATE        192701 non-null  object\n",
      " 4   LOAN_HOUR        192701 non-null  object\n",
      " 5   DUE_DATE         192701 non-null  object\n",
      " 6   DUE_HOUR         192701 non-null  object\n",
      " 7   RETURNED_DATE    192701 non-null  object\n",
      " 8   RETURNED_HOUR    192701 non-null  object\n",
      " 9   ITEM_STATUS      192701 non-null  object\n",
      " 10  RENEWAL_NO       192701 non-null  object\n",
      " 11  LASTRENEW_DATE   192701 non-null  object\n",
      " 12  RECALL_DATE      192701 non-null  object\n",
      " 13  RECALL_DUE_DATE  192701 non-null  object\n",
      " 14  ITEM_CALLNO      192696 non-null  object\n",
      " 15  PUBLISH_YEAR     192701 non-null  object\n",
      " 16  AUTHOR           192409 non-null  object\n",
      " 17  TITLE            192694 non-null  object\n",
      " 18  PRESS            192668 non-null  object\n",
      " 19  ISBN             188032 non-null  object\n",
      " 20  HOLD_DAYS        192701 non-null  object\n",
      " 21  OVERDUE_DAYS     192701 non-null  object\n",
      " 22  PATRON_ID        192701 non-null  object\n",
      " 23  STUDENT_GRADE    168086 non-null  object\n",
      " 24  PATRON_DEPT      187398 non-null  object\n",
      " 25  PATRON_TYPE      188406 non-null  object\n",
      "dtypes: object(26)\n",
      "memory usage: 38.2+ MB\n"
     ]
    }
   ],
   "source": [
    "SmallData = pd.read_csv(\"../data/raw/浙江大学-图书外借数据-2019.csv\", encoding='utf8', dtype=str)\n",
    "SmallData.info()"
   ]
  },
  {
   "cell_type": "code",
   "execution_count": 4,
   "metadata": {},
   "outputs": [
    {
     "data": {
      "text/html": [
       "<div>\n",
       "<style scoped>\n",
       "    .dataframe tbody tr th:only-of-type {\n",
       "        vertical-align: middle;\n",
       "    }\n",
       "\n",
       "    .dataframe tbody tr th {\n",
       "        vertical-align: top;\n",
       "    }\n",
       "\n",
       "    .dataframe thead th {\n",
       "        text-align: right;\n",
       "    }\n",
       "</style>\n",
       "<table border=\"1\" class=\"dataframe\">\n",
       "  <thead>\n",
       "    <tr style=\"text-align: right;\">\n",
       "      <th></th>\n",
       "      <th>UNIVERSITY_ID</th>\n",
       "      <th>ITEM_ID</th>\n",
       "      <th>SUBLIBRARY</th>\n",
       "      <th>LOAN_DATE</th>\n",
       "      <th>LOAN_HOUR</th>\n",
       "      <th>DUE_DATE</th>\n",
       "      <th>DUE_HOUR</th>\n",
       "      <th>RETURNED_DATE</th>\n",
       "      <th>RETURNED_HOUR</th>\n",
       "      <th>RETURNED_LOCATION</th>\n",
       "      <th>...</th>\n",
       "      <th>AUTHOR</th>\n",
       "      <th>TITLE</th>\n",
       "      <th>PRESS</th>\n",
       "      <th>ISBN</th>\n",
       "      <th>HOLD_DAYS</th>\n",
       "      <th>OVERDUE_DAYS</th>\n",
       "      <th>PATRON_ID</th>\n",
       "      <th>STUDENT_GRADE</th>\n",
       "      <th>PATRON_DEPT</th>\n",
       "      <th>PATRON_TYPE</th>\n",
       "    </tr>\n",
       "  </thead>\n",
       "  <tbody>\n",
       "    <tr>\n",
       "      <th>1387373</th>\n",
       "      <td>10335</td>\n",
       "      <td>001349610000010</td>\n",
       "      <td>MLT</td>\n",
       "      <td>20140429</td>\n",
       "      <td>1524</td>\n",
       "      <td>20140608</td>\n",
       "      <td>2150</td>\n",
       "      <td>20140529</td>\n",
       "      <td>1001</td>\n",
       "      <td>NaN</td>\n",
       "      <td>...</td>\n",
       "      <td>达尔文</td>\n",
       "      <td>物种起源</td>\n",
       "      <td>商务印书馆</td>\n",
       "      <td>978-7-100-07775-0</td>\n",
       "      <td>30</td>\n",
       "      <td>-10</td>\n",
       "      <td>d6e76443d0d8088752f8c3a8f8792bd7</td>\n",
       "      <td>2013</td>\n",
       "      <td>信息与电子工程学院</td>\n",
       "      <td>全日制硕士生</td>\n",
       "    </tr>\n",
       "    <tr>\n",
       "      <th>449602</th>\n",
       "      <td>10335</td>\n",
       "      <td>000487719000090</td>\n",
       "      <td>TYB</td>\n",
       "      <td>20180716</td>\n",
       "      <td>1441</td>\n",
       "      <td>20180917</td>\n",
       "      <td>1441</td>\n",
       "      <td>20181114</td>\n",
       "      <td>1012</td>\n",
       "      <td>NaN</td>\n",
       "      <td>...</td>\n",
       "      <td>梁衡</td>\n",
       "      <td>数理化通俗演义</td>\n",
       "      <td>电子工业出版社</td>\n",
       "      <td>NaN</td>\n",
       "      <td>121</td>\n",
       "      <td>58</td>\n",
       "      <td>9bec029803d39228f946ee70154200e4</td>\n",
       "      <td>2008</td>\n",
       "      <td>图书馆</td>\n",
       "      <td>事业编制人员</td>\n",
       "    </tr>\n",
       "    <tr>\n",
       "      <th>1085988</th>\n",
       "      <td>10335</td>\n",
       "      <td>000091459000050</td>\n",
       "      <td>BHB</td>\n",
       "      <td>20170704</td>\n",
       "      <td>1644</td>\n",
       "      <td>20170919</td>\n",
       "      <td>2359</td>\n",
       "      <td>20170705</td>\n",
       "      <td>1306</td>\n",
       "      <td>NaN</td>\n",
       "      <td>...</td>\n",
       "      <td>横沟正史</td>\n",
       "      <td>女王蜂</td>\n",
       "      <td>珠海出版社</td>\n",
       "      <td>7-80689-037-8</td>\n",
       "      <td>1</td>\n",
       "      <td>-76</td>\n",
       "      <td>8e151209490929d8cc3bdf5fdd1d408f</td>\n",
       "      <td>2016</td>\n",
       "      <td>高分子科学与工程学系</td>\n",
       "      <td>全日制本科生</td>\n",
       "    </tr>\n",
       "  </tbody>\n",
       "</table>\n",
       "<p>3 rows × 27 columns</p>\n",
       "</div>"
      ],
      "text/plain": [
       "        UNIVERSITY_ID          ITEM_ID SUBLIBRARY LOAN_DATE LOAN_HOUR  \\\n",
       "1387373         10335  001349610000010      MLT    20140429      1524   \n",
       "449602          10335  000487719000090      TYB    20180716      1441   \n",
       "1085988         10335  000091459000050      BHB    20170704      1644   \n",
       "\n",
       "         DUE_DATE DUE_HOUR RETURNED_DATE RETURNED_HOUR RETURNED_LOCATION  ...  \\\n",
       "1387373  20140608     2150      20140529          1001               NaN  ...   \n",
       "449602   20180917     1441      20181114          1012               NaN  ...   \n",
       "1085988  20170919     2359      20170705          1306               NaN  ...   \n",
       "\n",
       "        AUTHOR    TITLE    PRESS               ISBN HOLD_DAYS OVERDUE_DAYS  \\\n",
       "1387373    达尔文     物种起源    商务印书馆  978-7-100-07775-0        30          -10   \n",
       "449602      梁衡  数理化通俗演义  电子工业出版社                NaN       121           58   \n",
       "1085988   横沟正史      女王蜂    珠海出版社      7-80689-037-8         1          -76   \n",
       "\n",
       "                                PATRON_ID STUDENT_GRADE PATRON_DEPT  \\\n",
       "1387373  d6e76443d0d8088752f8c3a8f8792bd7          2013   信息与电子工程学院   \n",
       "449602   9bec029803d39228f946ee70154200e4          2008        图书馆    \n",
       "1085988  8e151209490929d8cc3bdf5fdd1d408f          2016  高分子科学与工程学系   \n",
       "\n",
       "        PATRON_TYPE  \n",
       "1387373      全日制硕士生  \n",
       "449602       事业编制人员  \n",
       "1085988      全日制本科生  \n",
       "\n",
       "[3 rows x 27 columns]"
      ]
     },
     "execution_count": 4,
     "metadata": {},
     "output_type": "execute_result"
    }
   ],
   "source": [
    "BigData.sample(3)"
   ]
  },
  {
   "attachments": {},
   "cell_type": "markdown",
   "metadata": {},
   "source": [
    "下面是构建模型所需要的数据列"
   ]
  },
  {
   "cell_type": "code",
   "execution_count": 5,
   "metadata": {},
   "outputs": [],
   "source": [
    "user_columns = ['PATRON_ID', 'STUDENT_GRADE', 'PATRON_DEPT', 'PATRON_TYPE']\n",
    "# 用户侧特征       用户id          年级            学生学院       学生类型\n",
    "item_columns = ['ITEM_ID', 'SUBLIBRARY', 'ITEM_CALLNO', 'PUBLISH_YEAR', 'AUTHOR', 'TITLE', 'PRESS']\n",
    "# 物品侧特征       记录号      馆藏地         图书索书号        出版年          作者       题目    出版社\n",
    "time = 'LOAN_DATE'"
   ]
  },
  {
   "attachments": {},
   "cell_type": "markdown",
   "metadata": {},
   "source": [
    "将两份数据集合并"
   ]
  },
  {
   "cell_type": "code",
   "execution_count": 6,
   "metadata": {},
   "outputs": [],
   "source": [
    "UsedColumns = user_columns + item_columns + [time]\n",
    "UsedData = pd.concat([BigData[UsedColumns], SmallData[UsedColumns]])"
   ]
  },
  {
   "cell_type": "code",
   "execution_count": 7,
   "metadata": {},
   "outputs": [
    {
     "name": "stdout",
     "output_type": "stream",
     "text": [
      "<class 'pandas.core.frame.DataFrame'>\n",
      "Int64Index: 2260649 entries, 0 to 192700\n",
      "Data columns (total 12 columns):\n",
      " #   Column         Dtype \n",
      "---  ------         ----- \n",
      " 0   PATRON_ID      object\n",
      " 1   STUDENT_GRADE  object\n",
      " 2   PATRON_DEPT    object\n",
      " 3   PATRON_TYPE    object\n",
      " 4   ITEM_ID        object\n",
      " 5   SUBLIBRARY     object\n",
      " 6   ITEM_CALLNO    object\n",
      " 7   PUBLISH_YEAR   object\n",
      " 8   AUTHOR         object\n",
      " 9   TITLE          object\n",
      " 10  PRESS          object\n",
      " 11  LOAN_DATE      object\n",
      "dtypes: object(12)\n",
      "memory usage: 224.2+ MB\n"
     ]
    }
   ],
   "source": [
    "UsedData.info()"
   ]
  },
  {
   "cell_type": "code",
   "execution_count": 8,
   "metadata": {},
   "outputs": [
    {
     "data": {
      "text/html": [
       "<div>\n",
       "<style scoped>\n",
       "    .dataframe tbody tr th:only-of-type {\n",
       "        vertical-align: middle;\n",
       "    }\n",
       "\n",
       "    .dataframe tbody tr th {\n",
       "        vertical-align: top;\n",
       "    }\n",
       "\n",
       "    .dataframe thead th {\n",
       "        text-align: right;\n",
       "    }\n",
       "</style>\n",
       "<table border=\"1\" class=\"dataframe\">\n",
       "  <thead>\n",
       "    <tr style=\"text-align: right;\">\n",
       "      <th></th>\n",
       "      <th>PATRON_ID</th>\n",
       "      <th>STUDENT_GRADE</th>\n",
       "      <th>PATRON_DEPT</th>\n",
       "      <th>PATRON_TYPE</th>\n",
       "      <th>ITEM_ID</th>\n",
       "      <th>SUBLIBRARY</th>\n",
       "      <th>ITEM_CALLNO</th>\n",
       "      <th>PUBLISH_YEAR</th>\n",
       "      <th>AUTHOR</th>\n",
       "      <th>TITLE</th>\n",
       "      <th>PRESS</th>\n",
       "      <th>LOAN_DATE</th>\n",
       "    </tr>\n",
       "  </thead>\n",
       "  <tbody>\n",
       "    <tr>\n",
       "      <th>1563924</th>\n",
       "      <td>9f1d81741bf230924120df0790254462</td>\n",
       "      <td>2012</td>\n",
       "      <td>人文学院</td>\n",
       "      <td>全日制博士生</td>\n",
       "      <td>000752156000020</td>\n",
       "      <td>SLT</td>\n",
       "      <td>C913.3/CZ9</td>\n",
       "      <td>2009</td>\n",
       "      <td>张建,</td>\n",
       "      <td>休闲都市论</td>\n",
       "      <td>东方出版中心</td>\n",
       "      <td>20131216</td>\n",
       "    </tr>\n",
       "    <tr>\n",
       "      <th>107215</th>\n",
       "      <td>d77a98a0f5a779669a41416f6b32fda2</td>\n",
       "      <td>2014</td>\n",
       "      <td>农业与生物技术学院</td>\n",
       "      <td>全日制硕士生</td>\n",
       "      <td>001054912000050</td>\n",
       "      <td>BHB</td>\n",
       "      <td>I565.447/CM2.10</td>\n",
       "      <td>2008</td>\n",
       "      <td>莫泊桑</td>\n",
       "      <td>莫泊桑中短篇小说选</td>\n",
       "      <td>华夏出版社</td>\n",
       "      <td>20161016</td>\n",
       "    </tr>\n",
       "    <tr>\n",
       "      <th>565077</th>\n",
       "      <td>d17ae1c63931140f184509c9b97fb00f</td>\n",
       "      <td>2016</td>\n",
       "      <td>控制科学与工程学院</td>\n",
       "      <td>全日制本科生</td>\n",
       "      <td>001570884000030</td>\n",
       "      <td>BLT</td>\n",
       "      <td>I712.457/CP5.3</td>\n",
       "      <td>2015</td>\n",
       "      <td>普罗克斯,</td>\n",
       "      <td>船讯</td>\n",
       "      <td>人民文学出版社</td>\n",
       "      <td>20180127</td>\n",
       "    </tr>\n",
       "  </tbody>\n",
       "</table>\n",
       "</div>"
      ],
      "text/plain": [
       "                                PATRON_ID STUDENT_GRADE PATRON_DEPT  \\\n",
       "1563924  9f1d81741bf230924120df0790254462          2012        人文学院   \n",
       "107215   d77a98a0f5a779669a41416f6b32fda2          2014   农业与生物技术学院   \n",
       "565077   d17ae1c63931140f184509c9b97fb00f          2016   控制科学与工程学院   \n",
       "\n",
       "        PATRON_TYPE          ITEM_ID SUBLIBRARY      ITEM_CALLNO PUBLISH_YEAR  \\\n",
       "1563924      全日制博士生  000752156000020      SLT         C913.3/CZ9         2009   \n",
       "107215       全日制硕士生  001054912000050      BHB    I565.447/CM2.10         2008   \n",
       "565077       全日制本科生  001570884000030      BLT     I712.457/CP5.3         2015   \n",
       "\n",
       "        AUTHOR      TITLE    PRESS LOAN_DATE  \n",
       "1563924    张建,      休闲都市论   东方出版中心  20131216  \n",
       "107215     莫泊桑  莫泊桑中短篇小说选    华夏出版社  20161016  \n",
       "565077   普罗克斯,         船讯  人民文学出版社  20180127  "
      ]
     },
     "execution_count": 8,
     "metadata": {},
     "output_type": "execute_result"
    }
   ],
   "source": [
    "UsedData.sample(3)"
   ]
  },
  {
   "attachments": {},
   "cell_type": "markdown",
   "metadata": {},
   "source": [
    "本项目将借阅记录中的空值字段采用相同值’na'进行填充，特征处理时将其作为空特征。对于图书类别，将其索书号按/分割后得到图书大类CALLNO1与小类CALLNO2，将借阅日期转为整形，便于之后比较大小。"
   ]
  },
  {
   "cell_type": "code",
   "execution_count": 9,
   "metadata": {},
   "outputs": [],
   "source": [
    "import re\n",
    "\n",
    "def get_Bletter(str0):   # 取出大写字母\n",
    "    b = re.sub(u\"([^\\u0041-\\u007a])\", \"\", str0)\n",
    "    return b\n",
    "\n",
    "UsedData = UsedData.fillna(value='na')\n",
    "UsedData['CALLNO1'] = UsedData['ITEM_CALLNO'].str.split('/', expand=True)[0].map(lambda x: get_Bletter(str(x)))\n",
    "UsedData['CALLNO2'] = UsedData['ITEM_CALLNO'].str.split('/', expand=True)[1].map(lambda x: get_Bletter(str(x)))\n",
    "UsedData[time]=UsedData[time].astype(int)\n",
    "UsedData = UsedData.drop(columns='ITEM_CALLNO')  # 删掉不再需要的列x"
   ]
  },
  {
   "attachments": {},
   "cell_type": "markdown",
   "metadata": {},
   "source": [
    "此时可以看到UsedData中的空值消失，并且多出了两个类别列"
   ]
  },
  {
   "cell_type": "code",
   "execution_count": 10,
   "metadata": {},
   "outputs": [
    {
     "name": "stdout",
     "output_type": "stream",
     "text": [
      "<class 'pandas.core.frame.DataFrame'>\n",
      "Int64Index: 2260649 entries, 0 to 192700\n",
      "Data columns (total 13 columns):\n",
      " #   Column         Dtype \n",
      "---  ------         ----- \n",
      " 0   PATRON_ID      object\n",
      " 1   STUDENT_GRADE  object\n",
      " 2   PATRON_DEPT    object\n",
      " 3   PATRON_TYPE    object\n",
      " 4   ITEM_ID        object\n",
      " 5   SUBLIBRARY     object\n",
      " 6   PUBLISH_YEAR   object\n",
      " 7   AUTHOR         object\n",
      " 8   TITLE          object\n",
      " 9   PRESS          object\n",
      " 10  LOAN_DATE      int64 \n",
      " 11  CALLNO1        object\n",
      " 12  CALLNO2        object\n",
      "dtypes: int64(1), object(12)\n",
      "memory usage: 241.5+ MB\n"
     ]
    }
   ],
   "source": [
    "UsedData.info()"
   ]
  },
  {
   "attachments": {},
   "cell_type": "markdown",
   "metadata": {},
   "source": [
    "将数据存入./data/processed中，作为后续分析数据"
   ]
  },
  {
   "cell_type": "code",
   "execution_count": 11,
   "metadata": {},
   "outputs": [],
   "source": [
    "import os\n",
    "\n",
    "UsedData.to_csv(\"../data/processed/ZJULibrary2013_2019.csv\")"
   ]
  },
  {
   "attachments": {},
   "cell_type": "markdown",
   "metadata": {},
   "source": [
    "可以再读取下来观察一下是否与之前的处理结果一样"
   ]
  },
  {
   "cell_type": "code",
   "execution_count": 15,
   "metadata": {},
   "outputs": [
    {
     "name": "stdout",
     "output_type": "stream",
     "text": [
      "<class 'pandas.core.frame.DataFrame'>\n",
      "Int64Index: 2260649 entries, 0 to 192700\n",
      "Data columns (total 13 columns):\n",
      " #   Column         Dtype \n",
      "---  ------         ----- \n",
      " 0   PATRON_ID      object\n",
      " 1   STUDENT_GRADE  object\n",
      " 2   PATRON_DEPT    object\n",
      " 3   PATRON_TYPE    object\n",
      " 4   ITEM_ID        object\n",
      " 5   SUBLIBRARY     object\n",
      " 6   PUBLISH_YEAR   object\n",
      " 7   AUTHOR         object\n",
      " 8   TITLE          object\n",
      " 9   PRESS          object\n",
      " 10  LOAN_DATE      int64 \n",
      " 11  CALLNO1        object\n",
      " 12  CALLNO2        object\n",
      "dtypes: int64(1), object(12)\n",
      "memory usage: 241.5+ MB\n"
     ]
    }
   ],
   "source": [
    "Data = pd.read_csv(\"../data/processed/ZJULibrary2013_2019.csv\", index_col = 0, dtype= str)\n",
    "Data[time]=Data[time].astype(int)\n",
    "Data.info()"
   ]
  },
  {
   "attachments": {},
   "cell_type": "markdown",
   "metadata": {},
   "source": [
    "至此完成了原始数据集的合并，填补了数据集中的空值，得到了图书的类别数据，最后将数据重新写入./data/processed/ZJULibrary2013_2019.csv中。"
   ]
  }
 ],
 "metadata": {
  "kernelspec": {
   "display_name": "torchrec",
   "language": "python",
   "name": "python3"
  },
  "language_info": {
   "codemirror_mode": {
    "name": "ipython",
    "version": 3
   },
   "file_extension": ".py",
   "mimetype": "text/x-python",
   "name": "python",
   "nbconvert_exporter": "python",
   "pygments_lexer": "ipython3",
   "version": "3.10.9"
  },
  "orig_nbformat": 4
 },
 "nbformat": 4,
 "nbformat_minor": 2
}
