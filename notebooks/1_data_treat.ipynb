{
 "cells": [
  {
   "attachments": {},
   "cell_type": "markdown",
   "metadata": {},
   "source": [
    "在上一个笔记本中已经初步处理好了需要的全量数据，现在通过scikit-learn中的一些库函数对于借阅记录进行特征编码等，最终生成的numpy可读文件data_process.npy包含(保存在./data/processed/data_process.npy中)\n",
    "\n",
    "1.所有物品的原始特征集item_set\n",
    "\n",
    "2.所有用户的原始特征集user_set\n",
    "\n",
    "3.训练集/验证集/测试集 特征向量 x_train/x_val/x_test\n",
    "\n",
    "4.训练集/验证集/测试集 标签 y_train/y_val/y_test"
   ]
  },
  {
   "cell_type": "code",
   "execution_count": 1,
   "metadata": {},
   "outputs": [],
   "source": [
    "import pandas as pd\n",
    "\n",
    "time = 'LOAN_DATE'\n",
    "Data = pd.read_csv(\"../data/processed/ZJULibrary2013_2019.csv\", index_col = 0, dtype= str, nrows = 10000)\n",
    "Data[time]=Data[time].astype(int)      # 先读取数据"
   ]
  },
  {
   "cell_type": "code",
   "execution_count": 2,
   "metadata": {},
   "outputs": [],
   "source": [
    "from sklearn.preprocessing import LabelEncoder\n",
    "\n",
    "user_features = ['PATRON_ID', 'STUDENT_GRADE', 'PATRON_DEPT', 'PATRON_TYPE']\n",
    "# 用户侧特征       用户id          年级            学生学院       学生类型\n",
    "item_features = ['ITEM_ID', 'SUBLIBRARY', 'CALLNO1','CALLNO2', 'PUBLISH_YEAR', 'AUTHOR', 'TITLE', 'PRESS']\n",
    "# 物品侧特征       记录号      馆藏地         大类1      小类2       出版年          作者       题目    出版社\n",
    "features = user_features + item_features\n",
    "\n",
    "feature_max_idx = {}    # 记录每个特征共有多少种\n",
    "for feature in features:\n",
    "    lbe = LabelEncoder()\n",
    "    Data[feature] = lbe.fit_transform(Data[feature]) + 1  # 从1开始\n",
    "    feature_max_idx[feature] = Data[feature].max() + 1 # 防止padding后造成分类标签越界\n",
    "    if feature == 'PATRON_ID':\n",
    "        user_map = {encode_id + 1: raw_id for encode_id, raw_id in enumerate(lbe.classes_)}\n",
    "    if feature == 'ITEM_ID':\n",
    "        item_map = {encode_id + 1: raw_id for encode_id, raw_id in enumerate(lbe.classes_)}"
   ]
  },
  {
   "cell_type": "code",
   "execution_count": 3,
   "metadata": {},
   "outputs": [
    {
     "data": {
      "text/html": [
       "<div>\n",
       "<style scoped>\n",
       "    .dataframe tbody tr th:only-of-type {\n",
       "        vertical-align: middle;\n",
       "    }\n",
       "\n",
       "    .dataframe tbody tr th {\n",
       "        vertical-align: top;\n",
       "    }\n",
       "\n",
       "    .dataframe thead th {\n",
       "        text-align: right;\n",
       "    }\n",
       "</style>\n",
       "<table border=\"1\" class=\"dataframe\">\n",
       "  <thead>\n",
       "    <tr style=\"text-align: right;\">\n",
       "      <th></th>\n",
       "      <th>PATRON_ID</th>\n",
       "      <th>STUDENT_GRADE</th>\n",
       "      <th>PATRON_DEPT</th>\n",
       "      <th>PATRON_TYPE</th>\n",
       "      <th>ITEM_ID</th>\n",
       "      <th>SUBLIBRARY</th>\n",
       "      <th>PUBLISH_YEAR</th>\n",
       "      <th>AUTHOR</th>\n",
       "      <th>TITLE</th>\n",
       "      <th>PRESS</th>\n",
       "      <th>LOAN_DATE</th>\n",
       "      <th>CALLNO1</th>\n",
       "      <th>CALLNO2</th>\n",
       "    </tr>\n",
       "  </thead>\n",
       "  <tbody>\n",
       "    <tr>\n",
       "      <th>5347</th>\n",
       "      <td>168</td>\n",
       "      <td>1</td>\n",
       "      <td>11</td>\n",
       "      <td>3</td>\n",
       "      <td>4324</td>\n",
       "      <td>11</td>\n",
       "      <td>55</td>\n",
       "      <td>3294</td>\n",
       "      <td>6596</td>\n",
       "      <td>363</td>\n",
       "      <td>20130724</td>\n",
       "      <td>26</td>\n",
       "      <td>25</td>\n",
       "    </tr>\n",
       "    <tr>\n",
       "      <th>939</th>\n",
       "      <td>64</td>\n",
       "      <td>1</td>\n",
       "      <td>25</td>\n",
       "      <td>4</td>\n",
       "      <td>224</td>\n",
       "      <td>6</td>\n",
       "      <td>49</td>\n",
       "      <td>4520</td>\n",
       "      <td>3282</td>\n",
       "      <td>866</td>\n",
       "      <td>20130104</td>\n",
       "      <td>6</td>\n",
       "      <td>65</td>\n",
       "    </tr>\n",
       "    <tr>\n",
       "      <th>6308</th>\n",
       "      <td>11</td>\n",
       "      <td>1</td>\n",
       "      <td>32</td>\n",
       "      <td>5</td>\n",
       "      <td>7203</td>\n",
       "      <td>23</td>\n",
       "      <td>59</td>\n",
       "      <td>4678</td>\n",
       "      <td>5871</td>\n",
       "      <td>926</td>\n",
       "      <td>20130121</td>\n",
       "      <td>18</td>\n",
       "      <td>61</td>\n",
       "    </tr>\n",
       "  </tbody>\n",
       "</table>\n",
       "</div>"
      ],
      "text/plain": [
       "      PATRON_ID  STUDENT_GRADE  PATRON_DEPT  PATRON_TYPE  ITEM_ID  SUBLIBRARY  \\\n",
       "5347        168              1           11            3     4324          11   \n",
       "939          64              1           25            4      224           6   \n",
       "6308         11              1           32            5     7203          23   \n",
       "\n",
       "      PUBLISH_YEAR  AUTHOR  TITLE  PRESS  LOAN_DATE  CALLNO1  CALLNO2  \n",
       "5347            55    3294   6596    363   20130724       26       25  \n",
       "939             49    4520   3282    866   20130104        6       65  \n",
       "6308            59    4678   5871    926   20130121       18       61  "
      ]
     },
     "execution_count": 3,
     "metadata": {},
     "output_type": "execute_result"
    }
   ],
   "source": [
    "Data.sample(3)"
   ]
  },
  {
   "cell_type": "code",
   "execution_count": 7,
   "metadata": {},
   "outputs": [],
   "source": [
    "import numpy as np\n",
    "import os\n",
    "np.save(os.path.join('../data/processed/', \"raw_id_maps.npy\") ,np.array((user_map, item_map), dtype=object))"
   ]
  },
  {
   "attachments": {},
   "cell_type": "markdown",
   "metadata": {},
   "source": [
    "运行上方代码后会在./data/processed文件夹下生成储存数据代号标签与原数据的字典集raw_id_maps.npy"
   ]
  },
  {
   "cell_type": "code",
   "execution_count": 8,
   "metadata": {},
   "outputs": [
    {
     "data": {
      "text/plain": [
       "{'PATRON_ID': 245,\n",
       " 'STUDENT_GRADE': 4,\n",
       " 'PATRON_DEPT': 43,\n",
       " 'PATRON_TYPE': 11,\n",
       " 'ITEM_ID': 9443,\n",
       " 'SUBLIBRARY': 28,\n",
       " 'CALLNO1': 60,\n",
       " 'CALLNO2': 120,\n",
       " 'PUBLISH_YEAR': 67,\n",
       " 'AUTHOR': 7328,\n",
       " 'TITLE': 8441,\n",
       " 'PRESS': 958}"
      ]
     },
     "execution_count": 8,
     "metadata": {},
     "output_type": "execute_result"
    }
   ],
   "source": [
    "feature_max_idx  # 可以观察每一个字段有几类不同值，统计用户人数与图书本树"
   ]
  },
  {
   "cell_type": "code",
   "execution_count": null,
   "metadata": {},
   "outputs": [],
   "source": []
  }
 ],
 "metadata": {
  "kernelspec": {
   "display_name": "torchrec",
   "language": "python",
   "name": "python3"
  },
  "language_info": {
   "codemirror_mode": {
    "name": "ipython",
    "version": 3
   },
   "file_extension": ".py",
   "mimetype": "text/x-python",
   "name": "python",
   "nbconvert_exporter": "python",
   "pygments_lexer": "ipython3",
   "version": "3.10.9"
  },
  "orig_nbformat": 4
 },
 "nbformat": 4,
 "nbformat_minor": 2
}
